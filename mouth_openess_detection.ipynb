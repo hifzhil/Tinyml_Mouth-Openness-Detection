{
 "cells": [
  {
   "cell_type": "markdown",
   "id": "ab6f434d-1802-4475-a4d6-b3c0e58e28ce",
   "metadata": {},
   "source": [
    "# Import Library"
   ]
  },
  {
   "cell_type": "code",
   "execution_count": 1,
   "id": "c0b7c059-7375-44fb-b834-64ff0da88dba",
   "metadata": {},
   "outputs": [
    {
     "name": "stderr",
     "output_type": "stream",
     "text": [
      "C:\\Users\\hifzhil\\miniforge3\\envs\\tinyml_env\\Lib\\site-packages\\h5py\\__init__.py:36: UserWarning: h5py is running against HDF5 1.14.3 when it was built against 1.14.2, this may cause problems\n",
      "  _warn((\"h5py is running against HDF5 {0} when it was built against {1}, \"\n"
     ]
    }
   ],
   "source": [
    "import numpy as np # linear algebra\n",
    "import pandas as pd # data processing, CSV file I/O (e.g. pd.read_csv)\n",
    "\n",
    "# Input data files are available in the \"../input/\" directory.\n",
    "# For example, running this (by clicking run or pressing Shift+Enter) will list all files under the input directory\n",
    "\n",
    "import os\n",
    "\n",
    "# Any results you write to the current directory are saved as output.\n",
    "-import cv2\n",
    "\n",
    "import matplotlib.pyplot as plt\n",
    "import seaborn as sns\n",
    "import tensorflow as tf\n",
    "import keras\n",
    "\n",
    "from keras.models import Sequential\n",
    "from keras.layers import Dense, Conv2D , MaxPooling2D , Flatten , Dropout , BatchNormalization\n",
    "from tensorflow.keras.preprocessing.image import ImageDataGenerator\n",
    "from sklearn.metrics import classification_report,confusion_matrix\n",
    "from keras.callbacks import ReduceLROnPlateau"
   ]
  },
  {
   "cell_type": "markdown",
   "id": "39f498d2-2b9e-4fe4-85fa-29285913b84b",
   "metadata": {},
   "source": [
    "# Preparing dataset\n",
    "This section runs only once to prepare the dataset mouth_state_detection.csv, which will be used throughout the entire session."
   ]
  },
  {
   "cell_type": "code",
   "execution_count": 18,
   "id": "7162c7c3-a205-4a85-bc68-cdcf5dbe6964",
   "metadata": {},
   "outputs": [],
   "source": [
    "def process_images(folder, label):\n",
    "    data = []\n",
    "    for filename in os.listdir(folder):\n",
    "        filepath = os.path.join(folder, filename)\n",
    "        if filepath.endswith('.png') or filepath.endswith('.jpg') or filepath.endswith('.jpeg'):\n",
    "            image = cv2.imread(filepath, cv2.IMREAD_GRAYSCALE)\n",
    "            image = cv2.resize(image, (28, 28))\n",
    "                pixel_data = image.flatten()\n",
    "            data.append(np.insert(pixel_data, 0, label))\n",
    "    return data"
   ]
  },
  {
   "cell_type": "code",
   "execution_count": 19,
   "id": "3eb5e897-551d-47ee-b402-f3ad83a9c289",
   "metadata": {},
   "outputs": [],
   "source": [
    "opened_mouth_dir = \"C:/Users/hifzh/computer-vision/Mouth-Openess-Detection/dataset/train/Yawn\"\n",
    "closed_mouth_dir = \"C:/Users/hifzh/computer-vision/Mouth-Openess-Detection/dataset/train/no_yawn\"\n",
    "\n",
    "## Change the value based on your dataset directory"
   ]
  },
  {
   "cell_type": "code",
   "execution_count": 21,
   "id": "1d868b88-25b1-4576-9ade-f02b917a7892",
   "metadata": {},
   "outputs": [],
   "source": [
    "\n",
    "\n",
    "# Nama folder\n",
    "opened_data = process_images(opened_mouth_dir, 1)  # 1 for opened mouth\n",
    "closed_data = process_images(closed_mouth_dir, 0)  # 0 for closed mouth\n",
    "\n",
    "# Combine the data and convert to a DataFrame\n",
    "combined_data = np.array(opened_data + closed_data)\n",
    "df = pd.DataFrame(combined_data)\n",
    "\n",
    "# Shuffle the DataFrame\n",
    "df = df.sample(frac=1).reset_index(drop=True)\n",
    "\n",
    "# Set column names\n",
    "column_names = ['label'] + [f'pixel{i+1}' for i in range(combined_data.shape[1] - 1)]\n",
    "df.columns = column_names\n",
    "\n",
    "# Save to CSV\n",
    "df.to_csv('mouth_state_detection.csv', index=False)\n"
   ]
  },
  {
   "cell_type": "markdown",
   "id": "329e3044-41be-4511-b6ad-eaabc2a934a4",
   "metadata": {},
   "source": [
    "# Data Visualization and Preprocessing"
   ]
  },
  {
   "cell_type": "code",
   "execution_count": 2,
   "id": "96d6f22a-9354-4809-bb31-10b420d6f755",
   "metadata": {},
   "outputs": [],
   "source": [
    "# Load the dataset\n",
    "dataframe = pd.read_csv(\"C:/Users/hifzhil/computer-vision/Mouth-Openess-Detection/mouth_state_detection.csv\")"
   ]
  },
  {
   "cell_type": "code",
   "execution_count": 3,
   "id": "7b785110-e294-4052-895c-4d95ede6e2d8",
   "metadata": {},
   "outputs": [
    {
     "data": {
      "text/html": [
       "<div>\n",
       "<style scoped>\n",
       "    .dataframe tbody tr th:only-of-type {\n",
       "        vertical-align: middle;\n",
       "    }\n",
       "\n",
       "    .dataframe tbody tr th {\n",
       "        vertical-align: top;\n",
       "    }\n",
       "\n",
       "    .dataframe thead th {\n",
       "        text-align: right;\n",
       "    }\n",
       "</style>\n",
       "<table border=\"1\" class=\"dataframe\">\n",
       "  <thead>\n",
       "    <tr style=\"text-align: right;\">\n",
       "      <th></th>\n",
       "      <th>label</th>\n",
       "      <th>pixel1</th>\n",
       "      <th>pixel2</th>\n",
       "      <th>pixel3</th>\n",
       "      <th>pixel4</th>\n",
       "      <th>pixel5</th>\n",
       "      <th>pixel6</th>\n",
       "      <th>pixel7</th>\n",
       "      <th>pixel8</th>\n",
       "      <th>pixel9</th>\n",
       "      <th>...</th>\n",
       "      <th>pixel775</th>\n",
       "      <th>pixel776</th>\n",
       "      <th>pixel777</th>\n",
       "      <th>pixel778</th>\n",
       "      <th>pixel779</th>\n",
       "      <th>pixel780</th>\n",
       "      <th>pixel781</th>\n",
       "      <th>pixel782</th>\n",
       "      <th>pixel783</th>\n",
       "      <th>pixel784</th>\n",
       "    </tr>\n",
       "  </thead>\n",
       "  <tbody>\n",
       "    <tr>\n",
       "      <th>0</th>\n",
       "      <td>0</td>\n",
       "      <td>252</td>\n",
       "      <td>250</td>\n",
       "      <td>252</td>\n",
       "      <td>252</td>\n",
       "      <td>252</td>\n",
       "      <td>252</td>\n",
       "      <td>252</td>\n",
       "      <td>252</td>\n",
       "      <td>251</td>\n",
       "      <td>...</td>\n",
       "      <td>47</td>\n",
       "      <td>213</td>\n",
       "      <td>206</td>\n",
       "      <td>130</td>\n",
       "      <td>165</td>\n",
       "      <td>187</td>\n",
       "      <td>220</td>\n",
       "      <td>215</td>\n",
       "      <td>58</td>\n",
       "      <td>68</td>\n",
       "    </tr>\n",
       "    <tr>\n",
       "      <th>1</th>\n",
       "      <td>1</td>\n",
       "      <td>146</td>\n",
       "      <td>123</td>\n",
       "      <td>164</td>\n",
       "      <td>180</td>\n",
       "      <td>172</td>\n",
       "      <td>162</td>\n",
       "      <td>157</td>\n",
       "      <td>176</td>\n",
       "      <td>164</td>\n",
       "      <td>...</td>\n",
       "      <td>168</td>\n",
       "      <td>170</td>\n",
       "      <td>173</td>\n",
       "      <td>178</td>\n",
       "      <td>182</td>\n",
       "      <td>171</td>\n",
       "      <td>157</td>\n",
       "      <td>150</td>\n",
       "      <td>154</td>\n",
       "      <td>83</td>\n",
       "    </tr>\n",
       "    <tr>\n",
       "      <th>2</th>\n",
       "      <td>1</td>\n",
       "      <td>118</td>\n",
       "      <td>118</td>\n",
       "      <td>120</td>\n",
       "      <td>120</td>\n",
       "      <td>120</td>\n",
       "      <td>121</td>\n",
       "      <td>122</td>\n",
       "      <td>121</td>\n",
       "      <td>120</td>\n",
       "      <td>...</td>\n",
       "      <td>104</td>\n",
       "      <td>105</td>\n",
       "      <td>105</td>\n",
       "      <td>106</td>\n",
       "      <td>108</td>\n",
       "      <td>113</td>\n",
       "      <td>127</td>\n",
       "      <td>138</td>\n",
       "      <td>118</td>\n",
       "      <td>62</td>\n",
       "    </tr>\n",
       "    <tr>\n",
       "      <th>3</th>\n",
       "      <td>0</td>\n",
       "      <td>218</td>\n",
       "      <td>209</td>\n",
       "      <td>215</td>\n",
       "      <td>224</td>\n",
       "      <td>225</td>\n",
       "      <td>221</td>\n",
       "      <td>221</td>\n",
       "      <td>224</td>\n",
       "      <td>215</td>\n",
       "      <td>...</td>\n",
       "      <td>161</td>\n",
       "      <td>156</td>\n",
       "      <td>141</td>\n",
       "      <td>127</td>\n",
       "      <td>112</td>\n",
       "      <td>96</td>\n",
       "      <td>89</td>\n",
       "      <td>77</td>\n",
       "      <td>79</td>\n",
       "      <td>71</td>\n",
       "    </tr>\n",
       "    <tr>\n",
       "      <th>4</th>\n",
       "      <td>1</td>\n",
       "      <td>143</td>\n",
       "      <td>94</td>\n",
       "      <td>85</td>\n",
       "      <td>97</td>\n",
       "      <td>100</td>\n",
       "      <td>102</td>\n",
       "      <td>91</td>\n",
       "      <td>53</td>\n",
       "      <td>16</td>\n",
       "      <td>...</td>\n",
       "      <td>77</td>\n",
       "      <td>70</td>\n",
       "      <td>116</td>\n",
       "      <td>127</td>\n",
       "      <td>104</td>\n",
       "      <td>143</td>\n",
       "      <td>123</td>\n",
       "      <td>142</td>\n",
       "      <td>109</td>\n",
       "      <td>124</td>\n",
       "    </tr>\n",
       "    <tr>\n",
       "      <th>5</th>\n",
       "      <td>0</td>\n",
       "      <td>140</td>\n",
       "      <td>144</td>\n",
       "      <td>144</td>\n",
       "      <td>155</td>\n",
       "      <td>142</td>\n",
       "      <td>122</td>\n",
       "      <td>103</td>\n",
       "      <td>106</td>\n",
       "      <td>99</td>\n",
       "      <td>...</td>\n",
       "      <td>90</td>\n",
       "      <td>91</td>\n",
       "      <td>81</td>\n",
       "      <td>60</td>\n",
       "      <td>36</td>\n",
       "      <td>23</td>\n",
       "      <td>16</td>\n",
       "      <td>9</td>\n",
       "      <td>3</td>\n",
       "      <td>11</td>\n",
       "    </tr>\n",
       "    <tr>\n",
       "      <th>6</th>\n",
       "      <td>0</td>\n",
       "      <td>93</td>\n",
       "      <td>91</td>\n",
       "      <td>89</td>\n",
       "      <td>86</td>\n",
       "      <td>87</td>\n",
       "      <td>82</td>\n",
       "      <td>83</td>\n",
       "      <td>80</td>\n",
       "      <td>78</td>\n",
       "      <td>...</td>\n",
       "      <td>109</td>\n",
       "      <td>113</td>\n",
       "      <td>116</td>\n",
       "      <td>116</td>\n",
       "      <td>190</td>\n",
       "      <td>135</td>\n",
       "      <td>204</td>\n",
       "      <td>200</td>\n",
       "      <td>170</td>\n",
       "      <td>118</td>\n",
       "    </tr>\n",
       "    <tr>\n",
       "      <th>7</th>\n",
       "      <td>1</td>\n",
       "      <td>198</td>\n",
       "      <td>189</td>\n",
       "      <td>177</td>\n",
       "      <td>162</td>\n",
       "      <td>152</td>\n",
       "      <td>162</td>\n",
       "      <td>168</td>\n",
       "      <td>173</td>\n",
       "      <td>173</td>\n",
       "      <td>...</td>\n",
       "      <td>165</td>\n",
       "      <td>159</td>\n",
       "      <td>136</td>\n",
       "      <td>114</td>\n",
       "      <td>89</td>\n",
       "      <td>61</td>\n",
       "      <td>66</td>\n",
       "      <td>70</td>\n",
       "      <td>64</td>\n",
       "      <td>51</td>\n",
       "    </tr>\n",
       "    <tr>\n",
       "      <th>8</th>\n",
       "      <td>1</td>\n",
       "      <td>63</td>\n",
       "      <td>63</td>\n",
       "      <td>63</td>\n",
       "      <td>65</td>\n",
       "      <td>65</td>\n",
       "      <td>65</td>\n",
       "      <td>67</td>\n",
       "      <td>67</td>\n",
       "      <td>68</td>\n",
       "      <td>...</td>\n",
       "      <td>181</td>\n",
       "      <td>183</td>\n",
       "      <td>182</td>\n",
       "      <td>185</td>\n",
       "      <td>187</td>\n",
       "      <td>189</td>\n",
       "      <td>193</td>\n",
       "      <td>194</td>\n",
       "      <td>197</td>\n",
       "      <td>171</td>\n",
       "    </tr>\n",
       "    <tr>\n",
       "      <th>9</th>\n",
       "      <td>0</td>\n",
       "      <td>232</td>\n",
       "      <td>219</td>\n",
       "      <td>181</td>\n",
       "      <td>163</td>\n",
       "      <td>125</td>\n",
       "      <td>81</td>\n",
       "      <td>102</td>\n",
       "      <td>110</td>\n",
       "      <td>107</td>\n",
       "      <td>...</td>\n",
       "      <td>198</td>\n",
       "      <td>180</td>\n",
       "      <td>156</td>\n",
       "      <td>141</td>\n",
       "      <td>133</td>\n",
       "      <td>125</td>\n",
       "      <td>124</td>\n",
       "      <td>100</td>\n",
       "      <td>76</td>\n",
       "      <td>72</td>\n",
       "    </tr>\n",
       "  </tbody>\n",
       "</table>\n",
       "<p>10 rows × 785 columns</p>\n",
       "</div>"
      ],
      "text/plain": [
       "   label  pixel1  pixel2  pixel3  pixel4  pixel5  pixel6  pixel7  pixel8  \\\n",
       "0      0     252     250     252     252     252     252     252     252   \n",
       "1      1     146     123     164     180     172     162     157     176   \n",
       "2      1     118     118     120     120     120     121     122     121   \n",
       "3      0     218     209     215     224     225     221     221     224   \n",
       "4      1     143      94      85      97     100     102      91      53   \n",
       "5      0     140     144     144     155     142     122     103     106   \n",
       "6      0      93      91      89      86      87      82      83      80   \n",
       "7      1     198     189     177     162     152     162     168     173   \n",
       "8      1      63      63      63      65      65      65      67      67   \n",
       "9      0     232     219     181     163     125      81     102     110   \n",
       "\n",
       "   pixel9  ...  pixel775  pixel776  pixel777  pixel778  pixel779  pixel780  \\\n",
       "0     251  ...        47       213       206       130       165       187   \n",
       "1     164  ...       168       170       173       178       182       171   \n",
       "2     120  ...       104       105       105       106       108       113   \n",
       "3     215  ...       161       156       141       127       112        96   \n",
       "4      16  ...        77        70       116       127       104       143   \n",
       "5      99  ...        90        91        81        60        36        23   \n",
       "6      78  ...       109       113       116       116       190       135   \n",
       "7     173  ...       165       159       136       114        89        61   \n",
       "8      68  ...       181       183       182       185       187       189   \n",
       "9     107  ...       198       180       156       141       133       125   \n",
       "\n",
       "   pixel781  pixel782  pixel783  pixel784  \n",
       "0       220       215        58        68  \n",
       "1       157       150       154        83  \n",
       "2       127       138       118        62  \n",
       "3        89        77        79        71  \n",
       "4       123       142       109       124  \n",
       "5        16         9         3        11  \n",
       "6       204       200       170       118  \n",
       "7        66        70        64        51  \n",
       "8       193       194       197       171  \n",
       "9       124       100        76        72  \n",
       "\n",
       "[10 rows x 785 columns]"
      ]
     },
     "execution_count": 3,
     "metadata": {},
     "output_type": "execute_result"
    }
   ],
   "source": [
    "dataframe.head(10)"
   ]
  },
  {
   "cell_type": "code",
   "execution_count": 4,
   "id": "89903ba8-65c7-4c5c-a00b-bb6619a37d95",
   "metadata": {},
   "outputs": [],
   "source": [
    "from sklearn.model_selection import train_test_split\n",
    "\n",
    "train_df, test_df = train_test_split(dataframe, test_size=0.4, random_state=42)  # 40% of data for testing\n",
    "debug_df = test_df.iloc[:20]\n",
    "y = test_df['label']\n"
   ]
  },
  {
   "cell_type": "code",
   "execution_count": 5,
   "id": "023fee6d-3a5c-4fcc-8471-b0e094fcec8b",
   "metadata": {},
   "outputs": [
    {
     "data": {
      "text/plain": [
       "<Axes: xlabel='label', ylabel='count'>"
      ]
     },
     "execution_count": 5,
     "metadata": {},
     "output_type": "execute_result"
    },
    {
     "data": {
      "image/png": "[encoded data removed]",
      "text/plain": [
       "<Figure size 1000x1000 with 1 Axes>"
      ]
     },
     "metadata": {},
     "output_type": "display_data"
    }
   ],
   "source": [
    "plt.figure(figsize = (10,10)) # Label Count\n",
    "sns.set_style(\"darkgrid\")\n",
    "sns.countplot(train_df, x = 'label')"
   ]
  },
  {
   "cell_type": "code",
   "execution_count": 6,
   "id": "2c18ce1e-9e67-48b2-b63a-02473d551d57",
   "metadata": {},
   "outputs": [
    {
     "data": {
      "text/plain": [
       "<Axes: xlabel='label', ylabel='count'>"
      ]
     },
     "execution_count": 6,
     "metadata": {},
     "output_type": "execute_result"
    },
    {
     "data": {
      "image/png": "[encoded data removed]",
      "text/plain": [
       "<Figure size 1000x1000 with 1 Axes>"
      ]
     },
     "metadata": {},
     "output_type": "display_data"
    }
   ],
   "source": [
    "plt.figure(figsize = (10,10)) # Label Count\n",
    "sns.set_style(\"darkgrid\")\n",
    "sns.countplot(test_df, x = 'label')"
   ]
  },
  {
   "cell_type": "code",
   "execution_count": 7,
   "id": "e3e4248d-bc03-4e8d-8c3b-a98b201afeed",
   "metadata": {},
   "outputs": [],
   "source": [
    "y_train = train_df['label']\n",
    "y_test = test_df['label']\n",
    "\n",
    "# I put y_debug for degugging in miceocontroller\n",
    "y_debug = y_test[0:20]\n",
    "\n",
    "del train_df['label']\n",
    "del test_df['label']"
   ]
  },
  {
   "cell_type": "code",
   "execution_count": 8,
   "id": "4b2ba1e3-692b-4b5c-8dd9-23a953d2e9fc",
   "metadata": {},
   "outputs": [
    {
     "name": "stdout",
     "output_type": "stream",
     "text": [
      "3558    0\n",
      "6150    0\n",
      "4352    0\n",
      "2218    0\n",
      "5137    1\n",
      "       ..\n",
      "3772    0\n",
      "5191    1\n",
      "5226    0\n",
      "5390    1\n",
      "860     0\n",
      "Name: label, Length: 3942, dtype: int64\n"
     ]
    }
   ],
   "source": [
    "print(y_train)"
   ]
  },
  {
   "cell_type": "code",
   "execution_count": 9,
   "id": "42a62d50-7055-46d3-a61f-26a14f7db8f8",
   "metadata": {},
   "outputs": [
    {
     "data": {
      "text/plain": [
       "5364    1\n",
       "5586    1\n",
       "2623    1\n",
       "5939    0\n",
       "1360    0\n",
       "496     0\n",
       "5409    1\n",
       "2955    1\n",
       "2441    0\n",
       "3442    1\n",
       "511     1\n",
       "132     1\n",
       "3406    1\n",
       "2927    1\n",
       "1871    0\n",
       "3907    1\n",
       "4768    1\n",
       "5523    1\n",
       "4139    0\n",
       "1452    0\n",
       "Name: label, dtype: int64"
      ]
     },
     "execution_count": 9,
     "metadata": {},
     "output_type": "execute_result"
    }
   ],
   "source": [
    "y_test.head(20)"
   ]
  },
  {
   "cell_type": "code",
   "execution_count": 10,
   "id": "f6845ed0-3573-4514-b11f-e250e1309052",
   "metadata": {},
   "outputs": [
    {
     "name": "stdout",
     "output_type": "stream",
     "text": [
      "[[0]\n",
      " [0]\n",
      " [0]\n",
      " ...\n",
      " [0]\n",
      " [1]\n",
      " [0]]\n"
     ]
    }
   ],
   "source": [
    "from sklearn.preprocessing import LabelBinarizer\n",
    "label_binarizer = LabelBinarizer()\n",
    "y_train = label_binarizer.fit_transform(y_train)\n",
    "y_test = label_binarizer.fit_transform(y_test)\n",
    "print(y_train)"
   ]
  },
  {
   "cell_type": "code",
   "execution_count": 11,
   "id": "0b3ed7bf-6b31-4e58-9100-f5d47737708a",
   "metadata": {},
   "outputs": [],
   "source": [
    "x_train = train_df.values\n",
    "x_test = test_df.values"
   ]
  },
  {
   "cell_type": "code",
   "execution_count": 12,
   "id": "8f09f283-6417-4a6c-a80e-71c740ebf4de",
   "metadata": {},
   "outputs": [
    {
     "data": {
      "text/html": [
       "<div>\n",
       "<style scoped>\n",
       "    .dataframe tbody tr th:only-of-type {\n",
       "        vertical-align: middle;\n",
       "    }\n",
       "\n",
       "    .dataframe tbody tr th {\n",
       "        vertical-align: top;\n",
       "    }\n",
       "\n",
       "    .dataframe thead th {\n",
       "        text-align: right;\n",
       "    }\n",
       "</style>\n",
       "<table border=\"1\" class=\"dataframe\">\n",
       "  <thead>\n",
       "    <tr style=\"text-align: right;\">\n",
       "      <th></th>\n",
       "      <th>pixel1</th>\n",
       "      <th>pixel2</th>\n",
       "      <th>pixel3</th>\n",
       "      <th>pixel4</th>\n",
       "      <th>pixel5</th>\n",
       "      <th>pixel6</th>\n",
       "      <th>pixel7</th>\n",
       "      <th>pixel8</th>\n",
       "      <th>pixel9</th>\n",
       "      <th>pixel10</th>\n",
       "      <th>...</th>\n",
       "      <th>pixel775</th>\n",
       "      <th>pixel776</th>\n",
       "      <th>pixel777</th>\n",
       "      <th>pixel778</th>\n",
       "      <th>pixel779</th>\n",
       "      <th>pixel780</th>\n",
       "      <th>pixel781</th>\n",
       "      <th>pixel782</th>\n",
       "      <th>pixel783</th>\n",
       "      <th>pixel784</th>\n",
       "    </tr>\n",
       "  </thead>\n",
       "  <tbody>\n",
       "    <tr>\n",
       "      <th>5364</th>\n",
       "      <td>49</td>\n",
       "      <td>29</td>\n",
       "      <td>45</td>\n",
       "      <td>45</td>\n",
       "      <td>53</td>\n",
       "      <td>50</td>\n",
       "      <td>63</td>\n",
       "      <td>49</td>\n",
       "      <td>39</td>\n",
       "      <td>35</td>\n",
       "      <td>...</td>\n",
       "      <td>162</td>\n",
       "      <td>152</td>\n",
       "      <td>146</td>\n",
       "      <td>141</td>\n",
       "      <td>111</td>\n",
       "      <td>92</td>\n",
       "      <td>92</td>\n",
       "      <td>109</td>\n",
       "      <td>81</td>\n",
       "      <td>69</td>\n",
       "    </tr>\n",
       "    <tr>\n",
       "      <th>5586</th>\n",
       "      <td>183</td>\n",
       "      <td>184</td>\n",
       "      <td>191</td>\n",
       "      <td>188</td>\n",
       "      <td>198</td>\n",
       "      <td>199</td>\n",
       "      <td>203</td>\n",
       "      <td>199</td>\n",
       "      <td>195</td>\n",
       "      <td>188</td>\n",
       "      <td>...</td>\n",
       "      <td>78</td>\n",
       "      <td>85</td>\n",
       "      <td>86</td>\n",
       "      <td>101</td>\n",
       "      <td>110</td>\n",
       "      <td>85</td>\n",
       "      <td>132</td>\n",
       "      <td>145</td>\n",
       "      <td>147</td>\n",
       "      <td>137</td>\n",
       "    </tr>\n",
       "    <tr>\n",
       "      <th>2623</th>\n",
       "      <td>113</td>\n",
       "      <td>100</td>\n",
       "      <td>122</td>\n",
       "      <td>187</td>\n",
       "      <td>221</td>\n",
       "      <td>224</td>\n",
       "      <td>217</td>\n",
       "      <td>204</td>\n",
       "      <td>189</td>\n",
       "      <td>194</td>\n",
       "      <td>...</td>\n",
       "      <td>205</td>\n",
       "      <td>197</td>\n",
       "      <td>162</td>\n",
       "      <td>175</td>\n",
       "      <td>136</td>\n",
       "      <td>145</td>\n",
       "      <td>125</td>\n",
       "      <td>120</td>\n",
       "      <td>127</td>\n",
       "      <td>126</td>\n",
       "    </tr>\n",
       "    <tr>\n",
       "      <th>5939</th>\n",
       "      <td>142</td>\n",
       "      <td>150</td>\n",
       "      <td>158</td>\n",
       "      <td>161</td>\n",
       "      <td>164</td>\n",
       "      <td>169</td>\n",
       "      <td>164</td>\n",
       "      <td>158</td>\n",
       "      <td>99</td>\n",
       "      <td>85</td>\n",
       "      <td>...</td>\n",
       "      <td>68</td>\n",
       "      <td>108</td>\n",
       "      <td>65</td>\n",
       "      <td>82</td>\n",
       "      <td>125</td>\n",
       "      <td>95</td>\n",
       "      <td>160</td>\n",
       "      <td>161</td>\n",
       "      <td>162</td>\n",
       "      <td>170</td>\n",
       "    </tr>\n",
       "    <tr>\n",
       "      <th>1360</th>\n",
       "      <td>165</td>\n",
       "      <td>152</td>\n",
       "      <td>140</td>\n",
       "      <td>130</td>\n",
       "      <td>120</td>\n",
       "      <td>120</td>\n",
       "      <td>136</td>\n",
       "      <td>145</td>\n",
       "      <td>167</td>\n",
       "      <td>173</td>\n",
       "      <td>...</td>\n",
       "      <td>117</td>\n",
       "      <td>111</td>\n",
       "      <td>108</td>\n",
       "      <td>106</td>\n",
       "      <td>106</td>\n",
       "      <td>108</td>\n",
       "      <td>113</td>\n",
       "      <td>122</td>\n",
       "      <td>132</td>\n",
       "      <td>128</td>\n",
       "    </tr>\n",
       "    <tr>\n",
       "      <th>496</th>\n",
       "      <td>138</td>\n",
       "      <td>133</td>\n",
       "      <td>118</td>\n",
       "      <td>109</td>\n",
       "      <td>107</td>\n",
       "      <td>101</td>\n",
       "      <td>99</td>\n",
       "      <td>95</td>\n",
       "      <td>87</td>\n",
       "      <td>94</td>\n",
       "      <td>...</td>\n",
       "      <td>138</td>\n",
       "      <td>136</td>\n",
       "      <td>130</td>\n",
       "      <td>127</td>\n",
       "      <td>127</td>\n",
       "      <td>138</td>\n",
       "      <td>11</td>\n",
       "      <td>18</td>\n",
       "      <td>19</td>\n",
       "      <td>28</td>\n",
       "    </tr>\n",
       "    <tr>\n",
       "      <th>5409</th>\n",
       "      <td>177</td>\n",
       "      <td>184</td>\n",
       "      <td>191</td>\n",
       "      <td>194</td>\n",
       "      <td>197</td>\n",
       "      <td>200</td>\n",
       "      <td>203</td>\n",
       "      <td>205</td>\n",
       "      <td>206</td>\n",
       "      <td>211</td>\n",
       "      <td>...</td>\n",
       "      <td>107</td>\n",
       "      <td>88</td>\n",
       "      <td>79</td>\n",
       "      <td>72</td>\n",
       "      <td>76</td>\n",
       "      <td>85</td>\n",
       "      <td>77</td>\n",
       "      <td>68</td>\n",
       "      <td>58</td>\n",
       "      <td>19</td>\n",
       "    </tr>\n",
       "    <tr>\n",
       "      <th>2955</th>\n",
       "      <td>208</td>\n",
       "      <td>171</td>\n",
       "      <td>142</td>\n",
       "      <td>134</td>\n",
       "      <td>128</td>\n",
       "      <td>120</td>\n",
       "      <td>120</td>\n",
       "      <td>118</td>\n",
       "      <td>121</td>\n",
       "      <td>129</td>\n",
       "      <td>...</td>\n",
       "      <td>162</td>\n",
       "      <td>144</td>\n",
       "      <td>107</td>\n",
       "      <td>109</td>\n",
       "      <td>95</td>\n",
       "      <td>96</td>\n",
       "      <td>115</td>\n",
       "      <td>122</td>\n",
       "      <td>117</td>\n",
       "      <td>118</td>\n",
       "    </tr>\n",
       "    <tr>\n",
       "      <th>2441</th>\n",
       "      <td>128</td>\n",
       "      <td>129</td>\n",
       "      <td>128</td>\n",
       "      <td>115</td>\n",
       "      <td>111</td>\n",
       "      <td>112</td>\n",
       "      <td>110</td>\n",
       "      <td>106</td>\n",
       "      <td>94</td>\n",
       "      <td>75</td>\n",
       "      <td>...</td>\n",
       "      <td>205</td>\n",
       "      <td>207</td>\n",
       "      <td>209</td>\n",
       "      <td>205</td>\n",
       "      <td>204</td>\n",
       "      <td>203</td>\n",
       "      <td>202</td>\n",
       "      <td>202</td>\n",
       "      <td>201</td>\n",
       "      <td>190</td>\n",
       "    </tr>\n",
       "    <tr>\n",
       "      <th>3442</th>\n",
       "      <td>123</td>\n",
       "      <td>120</td>\n",
       "      <td>108</td>\n",
       "      <td>106</td>\n",
       "      <td>109</td>\n",
       "      <td>104</td>\n",
       "      <td>128</td>\n",
       "      <td>104</td>\n",
       "      <td>107</td>\n",
       "      <td>101</td>\n",
       "      <td>...</td>\n",
       "      <td>102</td>\n",
       "      <td>132</td>\n",
       "      <td>140</td>\n",
       "      <td>99</td>\n",
       "      <td>127</td>\n",
       "      <td>105</td>\n",
       "      <td>110</td>\n",
       "      <td>73</td>\n",
       "      <td>61</td>\n",
       "      <td>64</td>\n",
       "    </tr>\n",
       "    <tr>\n",
       "      <th>511</th>\n",
       "      <td>63</td>\n",
       "      <td>56</td>\n",
       "      <td>43</td>\n",
       "      <td>35</td>\n",
       "      <td>35</td>\n",
       "      <td>48</td>\n",
       "      <td>48</td>\n",
       "      <td>39</td>\n",
       "      <td>28</td>\n",
       "      <td>22</td>\n",
       "      <td>...</td>\n",
       "      <td>57</td>\n",
       "      <td>63</td>\n",
       "      <td>69</td>\n",
       "      <td>76</td>\n",
       "      <td>80</td>\n",
       "      <td>82</td>\n",
       "      <td>88</td>\n",
       "      <td>77</td>\n",
       "      <td>72</td>\n",
       "      <td>81</td>\n",
       "    </tr>\n",
       "    <tr>\n",
       "      <th>132</th>\n",
       "      <td>154</td>\n",
       "      <td>151</td>\n",
       "      <td>153</td>\n",
       "      <td>157</td>\n",
       "      <td>158</td>\n",
       "      <td>160</td>\n",
       "      <td>161</td>\n",
       "      <td>162</td>\n",
       "      <td>163</td>\n",
       "      <td>152</td>\n",
       "      <td>...</td>\n",
       "      <td>65</td>\n",
       "      <td>64</td>\n",
       "      <td>72</td>\n",
       "      <td>97</td>\n",
       "      <td>131</td>\n",
       "      <td>142</td>\n",
       "      <td>105</td>\n",
       "      <td>69</td>\n",
       "      <td>52</td>\n",
       "      <td>104</td>\n",
       "    </tr>\n",
       "    <tr>\n",
       "      <th>3406</th>\n",
       "      <td>81</td>\n",
       "      <td>67</td>\n",
       "      <td>84</td>\n",
       "      <td>89</td>\n",
       "      <td>90</td>\n",
       "      <td>94</td>\n",
       "      <td>109</td>\n",
       "      <td>49</td>\n",
       "      <td>7</td>\n",
       "      <td>7</td>\n",
       "      <td>...</td>\n",
       "      <td>125</td>\n",
       "      <td>121</td>\n",
       "      <td>147</td>\n",
       "      <td>102</td>\n",
       "      <td>116</td>\n",
       "      <td>136</td>\n",
       "      <td>148</td>\n",
       "      <td>106</td>\n",
       "      <td>101</td>\n",
       "      <td>81</td>\n",
       "    </tr>\n",
       "    <tr>\n",
       "      <th>2927</th>\n",
       "      <td>145</td>\n",
       "      <td>147</td>\n",
       "      <td>148</td>\n",
       "      <td>148</td>\n",
       "      <td>148</td>\n",
       "      <td>148</td>\n",
       "      <td>145</td>\n",
       "      <td>143</td>\n",
       "      <td>138</td>\n",
       "      <td>135</td>\n",
       "      <td>...</td>\n",
       "      <td>240</td>\n",
       "      <td>115</td>\n",
       "      <td>108</td>\n",
       "      <td>85</td>\n",
       "      <td>208</td>\n",
       "      <td>223</td>\n",
       "      <td>231</td>\n",
       "      <td>68</td>\n",
       "      <td>74</td>\n",
       "      <td>79</td>\n",
       "    </tr>\n",
       "    <tr>\n",
       "      <th>1871</th>\n",
       "      <td>136</td>\n",
       "      <td>139</td>\n",
       "      <td>145</td>\n",
       "      <td>154</td>\n",
       "      <td>168</td>\n",
       "      <td>174</td>\n",
       "      <td>179</td>\n",
       "      <td>180</td>\n",
       "      <td>182</td>\n",
       "      <td>170</td>\n",
       "      <td>...</td>\n",
       "      <td>159</td>\n",
       "      <td>153</td>\n",
       "      <td>148</td>\n",
       "      <td>137</td>\n",
       "      <td>130</td>\n",
       "      <td>112</td>\n",
       "      <td>95</td>\n",
       "      <td>73</td>\n",
       "      <td>52</td>\n",
       "      <td>31</td>\n",
       "    </tr>\n",
       "    <tr>\n",
       "      <th>3907</th>\n",
       "      <td>169</td>\n",
       "      <td>178</td>\n",
       "      <td>185</td>\n",
       "      <td>170</td>\n",
       "      <td>164</td>\n",
       "      <td>178</td>\n",
       "      <td>173</td>\n",
       "      <td>171</td>\n",
       "      <td>167</td>\n",
       "      <td>164</td>\n",
       "      <td>...</td>\n",
       "      <td>125</td>\n",
       "      <td>120</td>\n",
       "      <td>96</td>\n",
       "      <td>153</td>\n",
       "      <td>160</td>\n",
       "      <td>157</td>\n",
       "      <td>140</td>\n",
       "      <td>128</td>\n",
       "      <td>117</td>\n",
       "      <td>120</td>\n",
       "    </tr>\n",
       "    <tr>\n",
       "      <th>4768</th>\n",
       "      <td>252</td>\n",
       "      <td>251</td>\n",
       "      <td>251</td>\n",
       "      <td>252</td>\n",
       "      <td>252</td>\n",
       "      <td>252</td>\n",
       "      <td>252</td>\n",
       "      <td>252</td>\n",
       "      <td>252</td>\n",
       "      <td>142</td>\n",
       "      <td>...</td>\n",
       "      <td>50</td>\n",
       "      <td>178</td>\n",
       "      <td>113</td>\n",
       "      <td>124</td>\n",
       "      <td>45</td>\n",
       "      <td>142</td>\n",
       "      <td>155</td>\n",
       "      <td>158</td>\n",
       "      <td>170</td>\n",
       "      <td>192</td>\n",
       "    </tr>\n",
       "    <tr>\n",
       "      <th>5523</th>\n",
       "      <td>208</td>\n",
       "      <td>184</td>\n",
       "      <td>202</td>\n",
       "      <td>190</td>\n",
       "      <td>184</td>\n",
       "      <td>165</td>\n",
       "      <td>144</td>\n",
       "      <td>123</td>\n",
       "      <td>151</td>\n",
       "      <td>158</td>\n",
       "      <td>...</td>\n",
       "      <td>162</td>\n",
       "      <td>127</td>\n",
       "      <td>156</td>\n",
       "      <td>170</td>\n",
       "      <td>173</td>\n",
       "      <td>172</td>\n",
       "      <td>179</td>\n",
       "      <td>175</td>\n",
       "      <td>201</td>\n",
       "      <td>175</td>\n",
       "    </tr>\n",
       "    <tr>\n",
       "      <th>4139</th>\n",
       "      <td>174</td>\n",
       "      <td>163</td>\n",
       "      <td>186</td>\n",
       "      <td>203</td>\n",
       "      <td>202</td>\n",
       "      <td>190</td>\n",
       "      <td>179</td>\n",
       "      <td>143</td>\n",
       "      <td>146</td>\n",
       "      <td>137</td>\n",
       "      <td>...</td>\n",
       "      <td>129</td>\n",
       "      <td>126</td>\n",
       "      <td>108</td>\n",
       "      <td>119</td>\n",
       "      <td>121</td>\n",
       "      <td>131</td>\n",
       "      <td>145</td>\n",
       "      <td>130</td>\n",
       "      <td>127</td>\n",
       "      <td>129</td>\n",
       "    </tr>\n",
       "    <tr>\n",
       "      <th>1452</th>\n",
       "      <td>242</td>\n",
       "      <td>250</td>\n",
       "      <td>203</td>\n",
       "      <td>185</td>\n",
       "      <td>194</td>\n",
       "      <td>199</td>\n",
       "      <td>202</td>\n",
       "      <td>125</td>\n",
       "      <td>52</td>\n",
       "      <td>173</td>\n",
       "      <td>...</td>\n",
       "      <td>141</td>\n",
       "      <td>254</td>\n",
       "      <td>254</td>\n",
       "      <td>182</td>\n",
       "      <td>252</td>\n",
       "      <td>246</td>\n",
       "      <td>81</td>\n",
       "      <td>101</td>\n",
       "      <td>102</td>\n",
       "      <td>104</td>\n",
       "    </tr>\n",
       "  </tbody>\n",
       "</table>\n",
       "<p>20 rows × 784 columns</p>\n",
       "</div>"
      ],
      "text/plain": [
       "      pixel1  pixel2  pixel3  pixel4  pixel5  pixel6  pixel7  pixel8  pixel9  \\\n",
       "5364      49      29      45      45      53      50      63      49      39   \n",
       "5586     183     184     191     188     198     199     203     199     195   \n",
       "2623     113     100     122     187     221     224     217     204     189   \n",
       "5939     142     150     158     161     164     169     164     158      99   \n",
       "1360     165     152     140     130     120     120     136     145     167   \n",
       "496      138     133     118     109     107     101      99      95      87   \n",
       "5409     177     184     191     194     197     200     203     205     206   \n",
       "2955     208     171     142     134     128     120     120     118     121   \n",
       "2441     128     129     128     115     111     112     110     106      94   \n",
       "3442     123     120     108     106     109     104     128     104     107   \n",
       "511       63      56      43      35      35      48      48      39      28   \n",
       "132      154     151     153     157     158     160     161     162     163   \n",
       "3406      81      67      84      89      90      94     109      49       7   \n",
       "2927     145     147     148     148     148     148     145     143     138   \n",
       "1871     136     139     145     154     168     174     179     180     182   \n",
       "3907     169     178     185     170     164     178     173     171     167   \n",
       "4768     252     251     251     252     252     252     252     252     252   \n",
       "5523     208     184     202     190     184     165     144     123     151   \n",
       "4139     174     163     186     203     202     190     179     143     146   \n",
       "1452     242     250     203     185     194     199     202     125      52   \n",
       "\n",
       "      pixel10  ...  pixel775  pixel776  pixel777  pixel778  pixel779  \\\n",
       "5364       35  ...       162       152       146       141       111   \n",
       "5586      188  ...        78        85        86       101       110   \n",
       "2623      194  ...       205       197       162       175       136   \n",
       "5939       85  ...        68       108        65        82       125   \n",
       "1360      173  ...       117       111       108       106       106   \n",
       "496        94  ...       138       136       130       127       127   \n",
       "5409      211  ...       107        88        79        72        76   \n",
       "2955      129  ...       162       144       107       109        95   \n",
       "2441       75  ...       205       207       209       205       204   \n",
       "3442      101  ...       102       132       140        99       127   \n",
       "511        22  ...        57        63        69        76        80   \n",
       "132       152  ...        65        64        72        97       131   \n",
       "3406        7  ...       125       121       147       102       116   \n",
       "2927      135  ...       240       115       108        85       208   \n",
       "1871      170  ...       159       153       148       137       130   \n",
       "3907      164  ...       125       120        96       153       160   \n",
       "4768      142  ...        50       178       113       124        45   \n",
       "5523      158  ...       162       127       156       170       173   \n",
       "4139      137  ...       129       126       108       119       121   \n",
       "1452      173  ...       141       254       254       182       252   \n",
       "\n",
       "      pixel780  pixel781  pixel782  pixel783  pixel784  \n",
       "5364        92        92       109        81        69  \n",
       "5586        85       132       145       147       137  \n",
       "2623       145       125       120       127       126  \n",
       "5939        95       160       161       162       170  \n",
       "1360       108       113       122       132       128  \n",
       "496        138        11        18        19        28  \n",
       "5409        85        77        68        58        19  \n",
       "2955        96       115       122       117       118  \n",
       "2441       203       202       202       201       190  \n",
       "3442       105       110        73        61        64  \n",
       "511         82        88        77        72        81  \n",
       "132        142       105        69        52       104  \n",
       "3406       136       148       106       101        81  \n",
       "2927       223       231        68        74        79  \n",
       "1871       112        95        73        52        31  \n",
       "3907       157       140       128       117       120  \n",
       "4768       142       155       158       170       192  \n",
       "5523       172       179       175       201       175  \n",
       "4139       131       145       130       127       129  \n",
       "1452       246        81       101       102       104  \n",
       "\n",
       "[20 rows x 784 columns]"
      ]
     },
     "execution_count": 12,
     "metadata": {},
     "output_type": "execute_result"
    }
   ],
   "source": [
    "test_df.head(20)"
   ]
  },
  {
   "cell_type": "code",
   "execution_count": 13,
   "id": "9aa58573-3f06-42c1-b4fc-b4b0a4f75dc1",
   "metadata": {},
   "outputs": [
    {
     "data": {
      "image/png": "[encoded data removed]",
      "text/plain": [
       "<Figure size 1000x1000 with 20 Axes>"
      ]
     },
     "metadata": {},
     "output_type": "display_data"
    }
   ],
   "source": [
    "f, ax = plt.subplots(4,5) \n",
    "f.set_size_inches(10, 10)\n",
    "k = 0\n",
    "for i in range(4):\n",
    "    for j in range(5):\n",
    "        img_data = debug_df.iloc[k, 1:].values\n",
    "        ax[i,j].imshow(img_data.reshape(28, 28) , cmap = \"gray\")\n",
    "        ax[i, j].axis('off')\n",
    "        k += 1\n",
    "    plt.tight_layout()"
   ]
  },
  {
   "cell_type": "markdown",
   "id": "f3f002f2-13e5-4477-bb4f-2a15cf1a057b",
   "metadata": {},
   "source": [
    "# Debugging\n"
   ]
  },
  {
   "cell_type": "code",
   "execution_count": 14,
   "id": "c3d36aac-f98d-4c1a-b590-9ddc9dcebaa4",
   "metadata": {},
   "outputs": [
    {
     "data": {
      "text/plain": [
       "(20,)"
      ]
     },
     "execution_count": 14,
     "metadata": {},
     "output_type": "execute_result"
    }
   ],
   "source": [
    "#Check the shape of y_debug\n",
    "np.transpose(y_debug).shape"
   ]
  },
  {
   "cell_type": "code",
   "execution_count": 15,
   "id": "00911fbb-b847-4fae-bd06-6868b8826079",
   "metadata": {},
   "outputs": [],
   "source": [
    "x_debug = (test_df.values)[0:20]\n",
    "csv_x_debug = 'csv_x.csv'\n",
    "csv_y_debug = 'csv_y.csv'\n",
    "y_db2 = np.array(y_debug).reshape(1,-1)\n",
    "# Write data to the CSV file\n",
    "np.savetxt(csv_x_debug, x_debug, delimiter=',', fmt='%s')\n",
    "np.savetxt(csv_y_debug, y_db2, delimiter=',', fmt='%s')"
   ]
  },
  {
   "cell_type": "markdown",
   "id": "5eeecf8a-f045-47b9-8e51-310e709adf9c",
   "metadata": {},
   "source": [
    "## Normalisasi Data\n",
    "\n",
    "there are some information that help in the normalization:\n",
    "\n",
    "- Quantization of 32-bit floating-point data to 8-bit fixedpoint data lowers the model’s memory footprint by 75%, and integer operations make the microcontroller run much faster, i read this on \"Tiny Machine Learning for ResourceConstrained Microcontrollers\" by Immonen, R., & Hämäläinen\n",
    "- For 8-bit quantization, int_value is represented by a value in the signed int8 range [-128, 127]. For 16-bit quantization, int_value is represented by a value in the signed int16 range [-32768, 32767]. read : https://docs.espressif.com/projects/esp-dl/en/latest/esp32/tools/quantization-toolkit/quantization-specification.html\n",
    "\n",
    "So, thats why we need to normalize the data between [-1, 1]"
   ]
  },
  {
   "cell_type": "code",
   "execution_count": 16,
   "id": "a110c166-5965-4af2-bc23-7d508702bfe5",
   "metadata": {},
   "outputs": [],
   "source": [
    "# Normalize the data\n",
    "x_train = (x_train  / 127.5) - 1.0\n",
    "x_test = (x_test/127.5)-1.0 # - 128 # / 255\n",
    "\n",
    "# Normalize the data\n",
    "# x_train = x_train/255 \n",
    "# x_test = x_test/255"
   ]
  },
  {
   "cell_type": "code",
   "execution_count": 17,
   "id": "16c1585c-dc17-4909-a245-7cd24653ef11",
   "metadata": {},
   "outputs": [],
   "source": [
    "# Reshaping the data from 1-D to 3-D as required through input by CNN's\n",
    "x_train = x_train.reshape(-1,28,28,1)\n",
    "x_test = x_test.reshape(-1,28,28,1)\n",
    "x_calibration = x_test[:500]"
   ]
  },
  {
   "cell_type": "code",
   "execution_count": 18,
   "id": "978705dc-4b18-4def-a370-2e5cf02686a2",
   "metadata": {},
   "outputs": [
    {
     "data": {
      "text/plain": [
       "(500, 28, 28, 1)"
      ]
     },
     "execution_count": 18,
     "metadata": {},
     "output_type": "execute_result"
    }
   ],
   "source": [
    "x_calibration.shape"
   ]
  },
  {
   "cell_type": "code",
   "execution_count": 19,
   "id": "7cb411ff-f43f-4c48-8238-24623a168592",
   "metadata": {},
   "outputs": [],
   "source": [
    "np.save('model_calibration.npy', x_calibration.astype(np.float32))"
   ]
  },
  {
   "cell_type": "code",
   "execution_count": 20,
   "id": "e22fb667-3758-435e-ab7d-6e51eb7dc42a",
   "metadata": {},
   "outputs": [],
   "source": [
    "def process_input_npy (x_tmp) :\n",
    "    x_tmp = np.array(x_tmp)\n",
    "    return x_tmp\n",
    "\n",
    "x_tmp_0 = process_input_npy (x_test[0])\n",
    "x_tmp_1 = process_input_npy (x_test[1])\n",
    "x_tmp_2 = process_input_npy (x_test[2])\n",
    "x_tmp_3 = process_input_npy (x_test[3])\n",
    "x_tmp_4 = process_input_npy (x_test[4])\n",
    "x_tmp_5 = process_input_npy (x_test[5])\n",
    "x_tmp_6 = process_input_npy (x_test[6])\n",
    "x_tmp_7 = process_input_npy (x_test[7])\n",
    "x_tmp_8 = process_input_npy (x_test[8])\n",
    "x_tmp_9 = process_input_npy (x_test[9])\n",
    "\n",
    "x_tmp_10 = process_input_npy (x_test[10])\n",
    "x_tmp_11 = process_input_npy (x_test[11])\n",
    "x_tmp_12 = process_input_npy (x_test[12])\n",
    "x_tmp_13 = process_input_npy (x_test[13])\n",
    "x_tmp_14 = process_input_npy (x_test[14])\n",
    "x_tmp_15 = process_input_npy (x_test[15])\n",
    "x_tmp_16 = process_input_npy (x_test[16])\n",
    "x_tmp_17 = process_input_npy (x_test[17])\n",
    "x_tmp_18 = process_input_npy (x_test[18])\n",
    "x_tmp_19 = process_input_npy (x_test[19])\n",
    "\n",
    "np.save('./input_img_npy/input_image_0.npy', x_tmp_0.astype(np.float32))\n",
    "np.save('./input_img_npy/input_image_1.npy', x_tmp_1.astype(np.float32))\n",
    "np.save('./input_img_npy/input_image_2.npy', x_tmp_2.astype(np.float32))\n",
    "np.save('./input_img_npy/input_image_3.npy', x_tmp_3.astype(np.float32))\n",
    "np.save('./input_img_npy/input_image_4.npy', x_tmp_4.astype(np.float32))\n",
    "np.save('./input_img_npy/input_image_5.npy', x_tmp_5.astype(np.float32))\n",
    "np.save('./input_img_npy/input_image_6.npy', x_tmp_6.astype(np.float32))\n",
    "np.save('./input_img_npy/input_image_7.npy', x_tmp_7.astype(np.float32))\n",
    "np.save('./input_img_npy/input_image_8.npy', x_tmp_8.astype(np.float32))\n",
    "np.save('./input_img_npy/input_image_9.npy', x_tmp_9.astype(np.float32))\n",
    "\n",
    "np.save('./input_img_npy/input_image_10.npy', x_tmp_10.astype(np.float32))\n",
    "np.save('./input_img_npy/input_image_11.npy', x_tmp_11.astype(np.float32))\n",
    "np.save('./input_img_npy/input_image_12.npy', x_tmp_12.astype(np.float32))\n",
    "np.save('./input_img_npy/input_image_13.npy', x_tmp_13.astype(np.float32))\n",
    "np.save('./input_img_npy/input_image_14.npy', x_tmp_14.astype(np.float32))\n",
    "np.save('./input_img_npy/input_image_15.npy', x_tmp_15.astype(np.float32))\n",
    "np.save('./input_img_npy/input_image_16.npy', x_tmp_16.astype(np.float32))\n",
    "np.save('./input_img_npy/input_image_17.npy', x_tmp_17.astype(np.float32))\n",
    "np.save('./input_img_npy/input_image_18.npy', x_tmp_18.astype(np.float32))\n",
    "np.save('./input_img_npy/input_image_19.npy', x_tmp_19.astype(np.float32))"
   ]
  },
  {
   "cell_type": "code",
   "execution_count": 21,
   "id": "fc7edbf6-37b6-4f9c-817b-e348140c3526",
   "metadata": {
    "scrolled": true
   },
   "outputs": [
    {
     "name": "stdout",
     "output_type": "stream",
     "text": [
      "Header file \"input_img_h\\input_data_0.h\" generated successfully.\n",
      "Header file \"input_img_h\\input_data_1.h\" generated successfully.\n",
      "Header file \"input_img_h\\input_data_2.h\" generated successfully.\n",
      "Header file \"input_img_h\\input_data_3.h\" generated successfully.\n",
      "Header file \"input_img_h\\input_data_4.h\" generated successfully.\n",
      "Header file \"input_img_h\\input_data_5.h\" generated successfully.\n",
      "Header file \"input_img_h\\input_data_6.h\" generated successfully.\n",
      "Header file \"input_img_h\\input_data_7.h\" generated successfully.\n",
      "Header file \"input_img_h\\input_data_8.h\" generated successfully.\n",
      "Header file \"input_img_h\\input_data_9.h\" generated successfully.\n",
      "Header file \"input_img_h\\input_data_10.h\" generated successfully.\n",
      "Header file \"input_img_h\\input_data_11.h\" generated successfully.\n",
      "Header file \"input_img_h\\input_data_12.h\" generated successfully.\n",
      "Header file \"input_img_h\\input_data_13.h\" generated successfully.\n",
      "Header file \"input_img_h\\input_data_14.h\" generated successfully.\n",
      "Header file \"input_img_h\\input_data_15.h\" generated successfully.\n",
      "Header file \"input_img_h\\input_data_16.h\" generated successfully.\n",
      "Header file \"input_img_h\\input_data_17.h\" generated successfully.\n",
      "Header file \"input_img_h\\input_data_18.h\" generated successfully.\n",
      "Header file \"input_img_h\\input_data_19.h\" generated successfully.\n"
     ]
    }
   ],
   "source": [
    "#change the input_image_[] and input_data_[] relatively \n",
    "def convert_npy_to_header(input_path, output_path, index):\n",
    "    input_ndarray = np.load(input_path)\n",
    "    input_dtype = 'float' if input_ndarray.dtype == np.float32 else 'int'\n",
    "    header_file = os.path.join(output_path, f'input_data_{index}.h')\n",
    "\n",
    "    # Write the data to the header file\n",
    "    with open(header_file, 'w') as file:\n",
    "        file.write('#include <tvmgen_default.h>\\n')\n",
    "        file.write(f'const size_t input_len = {input_ndarray.size};\\n')\n",
    "        file.write(f'const static __attribute__((aligned(16))) {input_dtype} input_data[] = {{')\n",
    "        file.write(', '.join(map(str, input_ndarray.flatten().tolist())))\n",
    "        file.write('};\\n')\n",
    "\n",
    "    print(f'Header file \"{header_file}\" generated successfully.')\n",
    "\n",
    "def process_directory(input_dir, output_dir):\n",
    "    os.makedirs(output_dir, exist_ok=True)\n",
    "\n",
    "    npy_files = sorted([f for f in os.listdir(input_dir) if f.endswith('.npy')])\n",
    "\n",
    "    for index, npy_file in enumerate(npy_files):\n",
    "        input_path = os.path.join(input_dir, npy_file)\n",
    "        convert_npy_to_header(input_path, output_dir, index)\n",
    "\n",
    "\n",
    "\n",
    "def convert_npy_to_header(input_path, output_path, index):\n",
    "    input_ndarray = np.load(input_path)\n",
    "\n",
    "    input_dtype = 'float' if input_ndarray.dtype == np.float32 else 'int'\n",
    "\n",
    "    header_file = os.path.join(output_path, f'input_data_{index}.h')\n",
    "\n",
    "    with open(header_file, 'w') as file:\n",
    "        file.write('#include <tvmgen_default.h>\\n')\n",
    "        file.write(f'const size_t input_len = {input_ndarray.size};\\n')\n",
    "        file.write(f'const static __attribute__((aligned(16))) {input_dtype} input_data[] = {{')\n",
    "        file.write(', '.join(map(str, input_ndarray.flatten().tolist())))\n",
    "        file.write('};\\n')\n",
    "\n",
    "    print(f'Header file \"{header_file}\" generated successfully.')\n",
    "\n",
    "def process_directory(input_dir, output_dir):\n",
    "    os.makedirs(output_dir, exist_ok=True)\n",
    "\n",
    "    npy_files = [f for f in os.listdir(input_dir) if f.endswith('.npy')]\n",
    "\n",
    "    npy_files.sort(key=lambda f: int(''.join(filter(str.isdigit, f))))\n",
    "\n",
    "    for index, npy_file in enumerate(npy_files):\n",
    "        input_path = os.path.join(input_dir, npy_file)\n",
    "        convert_npy_to_header(input_path, output_dir, index)\n",
    "\n",
    "# Define input and output directories\n",
    "input_dir = 'input_img_npy' \n",
    "output_dir = 'input_img_h'\n",
    "\n",
    "# Process the directory\n",
    "process_directory(input_dir, output_dir)"
   ]
  },
  {
   "cell_type": "code",
   "execution_count": 22,
   "id": "24d3c9ea-0029-4d29-a0cf-4e0163edd7c6",
   "metadata": {},
   "outputs": [
    {
     "data": {
      "image/png": "[encoded data removed]",
      "text/plain": [
       "<Figure size 1000x1000 with 10 Axes>"
      ]
     },
     "metadata": {},
     "output_type": "display_data"
    }
   ],
   "source": [
    "f, ax = plt.subplots(2,5) \n",
    "f.set_size_inches(10, 10)\n",
    "k = 0\n",
    "for i in range(2):\n",
    "    for j in range(5):\n",
    "        ax[i,j].imshow(x_train[k].reshape(28, 28) , cmap = \"gray\")\n",
    "        k += 1\n",
    "    plt.tight_layout()   "
   ]
  },
  {
   "cell_type": "markdown",
   "id": "b266dc80-38f1-4924-bff1-39e951b1311f",
   "metadata": {},
   "source": [
    "# Data Augmentation\n"
   ]
  },
  {
   "cell_type": "code",
   "execution_count": 23,
   "id": "f90ff802-23c6-4724-8775-506f292252ca",
   "metadata": {},
   "outputs": [],
   "source": [
    "# With data augmentation to prevent overfitting\n",
    "\n",
    "datagen = ImageDataGenerator(\n",
    "        featurewise_center=False,  # set input mean to 0 over the dataset\n",
    "        samplewise_center=False,  # set each sample mean to 0\n",
    "        featurewise_std_normalization=False,  # divide inputs by std of the dataset\n",
    "        samplewise_std_normalization=False,  # divide each input by its std\n",
    "        zca_whitening=False,  # apply ZCA whitening\n",
    "        rotation_range=10,  # randomly rotate images in the range (degrees, 0 to 180)\n",
    "        zoom_range = 0.1, # Randomly zoom image \n",
    "        width_shift_range=0.1,  # randomly shift images horizontally (fraction of total width)\n",
    "        height_shift_range=0.1,  # randomly shift images vertically (fraction of total height)\n",
    "        horizontal_flip=False,  # randomly flip images\n",
    "        vertical_flip=False)  # randomly flip images\n",
    "\n",
    "\n",
    "datagen.fit(x_train)"
   ]
  },
  {
   "cell_type": "code",
   "execution_count": 24,
   "id": "bfb45ff2-603b-4c1d-b65f-fc89ca59c026",
   "metadata": {},
   "outputs": [
    {
     "name": "stdout",
     "output_type": "stream",
     "text": [
      "<keras.src.legacy.preprocessing.image.ImageDataGenerator object at 0x0000022A968E9B20>\n"
     ]
    }
   ],
   "source": [
    "print(datagen)"
   ]
  },
  {
   "cell_type": "markdown",
   "id": "76522acd-f8b9-4b49-9f7c-458def128566",
   "metadata": {
    "jp-MarkdownHeadingCollapsed": true
   },
   "source": [
    "# Convolutional Neural Network"
   ]
  },
  {
   "cell_type": "markdown",
   "id": "239196c3-3d65-451c-b024-cef33ca4763d",
   "metadata": {},
   "source": [
    "# Training Network"
   ]
  },
  {
   "cell_type": "code",
   "execution_count": 25,
   "id": "c40a7ed7-69ae-412b-baf5-12983b0b3909",
   "metadata": {},
   "outputs": [],
   "source": [
    "learning_rate_reduction = ReduceLROnPlateau(monitor='val_accuracy', patience = 2, verbose=1,factor=0.5, min_lr=0.00001)"
   ]
  },
  {
   "cell_type": "code",
   "execution_count": 26,
   "id": "aeb0c644-094b-4ac9-bed1-38e942df7dbc",
   "metadata": {
    "scrolled": true
   },
   "outputs": [
    {
     "name": "stderr",
     "output_type": "stream",
     "text": [
      "C:\\Users\\hifzhil\\miniforge3\\envs\\tinyml_env\\Lib\\site-packages\\keras\\src\\layers\\convolutional\\base_conv.py:107: UserWarning: Do not pass an `input_shape`/`input_dim` argument to a layer. When using Sequential models, prefer using an `Input(shape)` object as the first layer in the model instead.\n",
      "  super().__init__(activity_regularizer=activity_regularizer, **kwargs)\n"
     ]
    },
    {
     "data": {
      "text/html": [
       "<pre style=\"white-space:pre;overflow-x:auto;line-height:normal;font-family:Menlo,'DejaVu Sans Mono',consolas,'Courier New',monospace\"><span style=\"font-weight: bold\">Model: \"sequential\"</span>\n",
       "</pre>\n"
      ],
      "text/plain": [
       "\u001b[1mModel: \"sequential\"\u001b[0m\n"
      ]
     },
     "metadata": {},
     "output_type": "display_data"
    },
    {
     "data": {
      "text/html": [
       "<pre style=\"white-space:pre;overflow-x:auto;line-height:normal;font-family:Menlo,'DejaVu Sans Mono',consolas,'Courier New',monospace\">┏━━━━━━━━━━━━━━━━━━━━━━━━━━━━━━━━━━━━━━┳━━━━━━━━━━━━━━━━━━━━━━━━━━━━━┳━━━━━━━━━━━━━━━━━┓\n",
       "┃<span style=\"font-weight: bold\"> Layer (type)                         </span>┃<span style=\"font-weight: bold\"> Output Shape                </span>┃<span style=\"font-weight: bold\">         Param # </span>┃\n",
       "┡━━━━━━━━━━━━━━━━━━━━━━━━━━━━━━━━━━━━━━╇━━━━━━━━━━━━━━━━━━━━━━━━━━━━━╇━━━━━━━━━━━━━━━━━┩\n",
       "│ conv2d (<span style=\"color: #0087ff; text-decoration-color: #0087ff\">Conv2D</span>)                      │ (<span style=\"color: #00d7ff; text-decoration-color: #00d7ff\">None</span>, <span style=\"color: #00af00; text-decoration-color: #00af00\">28</span>, <span style=\"color: #00af00; text-decoration-color: #00af00\">28</span>, <span style=\"color: #00af00; text-decoration-color: #00af00\">65</span>)          │             <span style=\"color: #00af00; text-decoration-color: #00af00\">650</span> │\n",
       "├──────────────────────────────────────┼─────────────────────────────┼─────────────────┤\n",
       "│ max_pooling2d (<span style=\"color: #0087ff; text-decoration-color: #0087ff\">MaxPooling2D</span>)         │ (<span style=\"color: #00d7ff; text-decoration-color: #00d7ff\">None</span>, <span style=\"color: #00af00; text-decoration-color: #00af00\">14</span>, <span style=\"color: #00af00; text-decoration-color: #00af00\">14</span>, <span style=\"color: #00af00; text-decoration-color: #00af00\">65</span>)          │               <span style=\"color: #00af00; text-decoration-color: #00af00\">0</span> │\n",
       "├──────────────────────────────────────┼─────────────────────────────┼─────────────────┤\n",
       "│ flatten (<span style=\"color: #0087ff; text-decoration-color: #0087ff\">Flatten</span>)                    │ (<span style=\"color: #00d7ff; text-decoration-color: #00d7ff\">None</span>, <span style=\"color: #00af00; text-decoration-color: #00af00\">12740</span>)               │               <span style=\"color: #00af00; text-decoration-color: #00af00\">0</span> │\n",
       "├──────────────────────────────────────┼─────────────────────────────┼─────────────────┤\n",
       "│ dense (<span style=\"color: #0087ff; text-decoration-color: #0087ff\">Dense</span>)                        │ (<span style=\"color: #00d7ff; text-decoration-color: #00d7ff\">None</span>, <span style=\"color: #00af00; text-decoration-color: #00af00\">8</span>)                   │         <span style=\"color: #00af00; text-decoration-color: #00af00\">101,928</span> │\n",
       "├──────────────────────────────────────┼─────────────────────────────┼─────────────────┤\n",
       "│ dense_1 (<span style=\"color: #0087ff; text-decoration-color: #0087ff\">Dense</span>)                      │ (<span style=\"color: #00d7ff; text-decoration-color: #00d7ff\">None</span>, <span style=\"color: #00af00; text-decoration-color: #00af00\">1</span>)                   │               <span style=\"color: #00af00; text-decoration-color: #00af00\">9</span> │\n",
       "└──────────────────────────────────────┴─────────────────────────────┴─────────────────┘\n",
       "</pre>\n"
      ],
      "text/plain": [
       "┏━━━━━━━━━━━━━━━━━━━━━━━━━━━━━━━━━━━━━━┳━━━━━━━━━━━━━━━━━━━━━━━━━━━━━┳━━━━━━━━━━━━━━━━━┓\n",
       "┃\u001b[1m \u001b[0m\u001b[1mLayer (type)                        \u001b[0m\u001b[1m \u001b[0m┃\u001b[1m \u001b[0m\u001b[1mOutput Shape               \u001b[0m\u001b[1m \u001b[0m┃\u001b[1m \u001b[0m\u001b[1m        Param #\u001b[0m\u001b[1m \u001b[0m┃\n",
       "┡━━━━━━━━━━━━━━━━━━━━━━━━━━━━━━━━━━━━━━╇━━━━━━━━━━━━━━━━━━━━━━━━━━━━━╇━━━━━━━━━━━━━━━━━┩\n",
       "│ conv2d (\u001b[38;5;33mConv2D\u001b[0m)                      │ (\u001b[38;5;45mNone\u001b[0m, \u001b[38;5;34m28\u001b[0m, \u001b[38;5;34m28\u001b[0m, \u001b[38;5;34m65\u001b[0m)          │             \u001b[38;5;34m650\u001b[0m │\n",
       "├──────────────────────────────────────┼─────────────────────────────┼─────────────────┤\n",
       "│ max_pooling2d (\u001b[38;5;33mMaxPooling2D\u001b[0m)         │ (\u001b[38;5;45mNone\u001b[0m, \u001b[38;5;34m14\u001b[0m, \u001b[38;5;34m14\u001b[0m, \u001b[38;5;34m65\u001b[0m)          │               \u001b[38;5;34m0\u001b[0m │\n",
       "├──────────────────────────────────────┼─────────────────────────────┼─────────────────┤\n",
       "│ flatten (\u001b[38;5;33mFlatten\u001b[0m)                    │ (\u001b[38;5;45mNone\u001b[0m, \u001b[38;5;34m12740\u001b[0m)               │               \u001b[38;5;34m0\u001b[0m │\n",
       "├──────────────────────────────────────┼─────────────────────────────┼─────────────────┤\n",
       "│ dense (\u001b[38;5;33mDense\u001b[0m)                        │ (\u001b[38;5;45mNone\u001b[0m, \u001b[38;5;34m8\u001b[0m)                   │         \u001b[38;5;34m101,928\u001b[0m │\n",
       "├──────────────────────────────────────┼─────────────────────────────┼─────────────────┤\n",
       "│ dense_1 (\u001b[38;5;33mDense\u001b[0m)                      │ (\u001b[38;5;45mNone\u001b[0m, \u001b[38;5;34m1\u001b[0m)                   │               \u001b[38;5;34m9\u001b[0m │\n",
       "└──────────────────────────────────────┴─────────────────────────────┴─────────────────┘\n"
      ]
     },
     "metadata": {},
     "output_type": "display_data"
    },
    {
     "data": {
      "text/html": [
       "<pre style=\"white-space:pre;overflow-x:auto;line-height:normal;font-family:Menlo,'DejaVu Sans Mono',consolas,'Courier New',monospace\"><span style=\"font-weight: bold\"> Total params: </span><span style=\"color: #00af00; text-decoration-color: #00af00\">102,587</span> (400.73 KB)\n",
       "</pre>\n"
      ],
      "text/plain": [
       "\u001b[1m Total params: \u001b[0m\u001b[38;5;34m102,587\u001b[0m (400.73 KB)\n"
      ]
     },
     "metadata": {},
     "output_type": "display_data"
    },
    {
     "data": {
      "text/html": [
       "<pre style=\"white-space:pre;overflow-x:auto;line-height:normal;font-family:Menlo,'DejaVu Sans Mono',consolas,'Courier New',monospace\"><span style=\"font-weight: bold\"> Trainable params: </span><span style=\"color: #00af00; text-decoration-color: #00af00\">102,587</span> (400.73 KB)\n",
       "</pre>\n"
      ],
      "text/plain": [
       "\u001b[1m Trainable params: \u001b[0m\u001b[38;5;34m102,587\u001b[0m (400.73 KB)\n"
      ]
     },
     "metadata": {},
     "output_type": "display_data"
    },
    {
     "data": {
      "text/html": [
       "<pre style=\"white-space:pre;overflow-x:auto;line-height:normal;font-family:Menlo,'DejaVu Sans Mono',consolas,'Courier New',monospace\"><span style=\"font-weight: bold\"> Non-trainable params: </span><span style=\"color: #00af00; text-decoration-color: #00af00\">0</span> (0.00 B)\n",
       "</pre>\n"
      ],
      "text/plain": [
       "\u001b[1m Non-trainable params: \u001b[0m\u001b[38;5;34m0\u001b[0m (0.00 B)\n"
      ]
     },
     "metadata": {},
     "output_type": "display_data"
    }
   ],
   "source": [
    "\n",
    "# Define the simplest model\n",
    "model = Sequential()\n",
    "model.add(Conv2D(65, (3, 3), strides=1, padding='same', activation='relu', input_shape=(28, 28, 1)))\n",
    "model.add(MaxPooling2D((2, 2), strides=2, padding='same'))\n",
    "model.add(Conv2D(40, (3, 3), strides=1, padding='same', activation='relu', input_shape=(28, 28, 1)))\n",
    "model.add(MaxPooling2D((2, 2), strides=2, padding='same'))\n",
    "model.add(Flatten())\n",
    "model.add(Dense(units = 8, activation='relu'))\n",
    "model.add(Dense(1, activation='sigmoid'))\n",
    "\n",
    "# Compile the model\n",
    "model.compile(optimizer='adam', loss='binary_crossentropy', metrics=['accuracy'])\n",
    "\n",
    "# Display the model summary\n",
    "model.summary()\n"
   ]
  },
  {
   "cell_type": "code",
   "execution_count": 28,
   "id": "a26bdf0c-db08-4355-8469-affe0fd898e6",
   "metadata": {},
   "outputs": [],
   "source": [
    "#from tensorflow.keras.utils import plot_model\n",
    "\n",
    "# Plot the model\n",
    "#plot_model(model, to_file='model_diagram.png', show_shapes=True, show_layer_names=True)"
   ]
  },
  {
   "cell_type": "code",
   "execution_count": 29,
   "id": "d974d08a-8e2e-4ea6-9c51-fc9dd36a995c",
   "metadata": {},
   "outputs": [
    {
     "name": "stdout",
     "output_type": "stream",
     "text": [
      "Epoch 1/20\n"
     ]
    },
    {
     "name": "stderr",
     "output_type": "stream",
     "text": [
      "C:\\Users\\hifzhil\\miniforge3\\envs\\tinyml_env\\Lib\\site-packages\\keras\\src\\trainers\\data_adapters\\py_dataset_adapter.py:121: UserWarning: Your `PyDataset` class should call `super().__init__(**kwargs)` in its constructor. `**kwargs` can include `workers`, `use_multiprocessing`, `max_queue_size`. Do not pass these arguments to `fit()`, as they will be ignored.\n",
      "  self._warn_if_super_not_called()\n"
     ]
    },
    {
     "name": "stdout",
     "output_type": "stream",
     "text": [
      "\u001b[1m31/31\u001b[0m \u001b[32m━━━━━━━━━━━━━━━━━━━━\u001b[0m\u001b[37m\u001b[0m \u001b[1m3s\u001b[0m 46ms/step - accuracy: 0.6175 - loss: 0.6281 - val_accuracy: 0.7241 - val_loss: 0.5293 - learning_rate: 0.0010\n",
      "Epoch 2/20\n",
      "\u001b[1m31/31\u001b[0m \u001b[32m━━━━━━━━━━━━━━━━━━━━\u001b[0m\u001b[37m\u001b[0m \u001b[1m1s\u001b[0m 41ms/step - accuracy: 0.7685 - loss: 0.4892 - val_accuracy: 0.7922 - val_loss: 0.4348 - learning_rate: 0.0010\n",
      "Epoch 3/20\n",
      "\u001b[1m31/31\u001b[0m \u001b[32m━━━━━━━━━━━━━━━━━━━━\u001b[0m\u001b[37m\u001b[0m \u001b[1m1s\u001b[0m 41ms/step - accuracy: 0.8027 - loss: 0.4321 - val_accuracy: 0.8128 - val_loss: 0.4151 - learning_rate: 0.0010\n",
      "Epoch 4/20\n",
      "\u001b[1m31/31\u001b[0m \u001b[32m━━━━━━━━━━━━━━━━━━━━\u001b[0m\u001b[37m\u001b[0m \u001b[1m1s\u001b[0m 40ms/step - accuracy: 0.8120 - loss: 0.3961 - val_accuracy: 0.8097 - val_loss: 0.4460 - learning_rate: 0.0010\n",
      "Epoch 5/20\n",
      "\u001b[1m31/31\u001b[0m \u001b[32m━━━━━━━━━━━━━━━━━━━━\u001b[0m\u001b[37m\u001b[0m \u001b[1m2s\u001b[0m 44ms/step - accuracy: 0.8235 - loss: 0.3768 - val_accuracy: 0.8269 - val_loss: 0.3805 - learning_rate: 0.0010\n",
      "Epoch 6/20\n",
      "\u001b[1m31/31\u001b[0m \u001b[32m━━━━━━━━━━━━━━━━━━━━\u001b[0m\u001b[37m\u001b[0m \u001b[1m1s\u001b[0m 40ms/step - accuracy: 0.8392 - loss: 0.3438 - val_accuracy: 0.8356 - val_loss: 0.3628 - learning_rate: 0.0010\n",
      "Epoch 7/20\n",
      "\u001b[1m31/31\u001b[0m \u001b[32m━━━━━━━━━━━━━━━━━━━━\u001b[0m\u001b[37m\u001b[0m \u001b[1m2s\u001b[0m 41ms/step - accuracy: 0.8527 - loss: 0.3327 - val_accuracy: 0.8398 - val_loss: 0.3350 - learning_rate: 0.0010\n",
      "Epoch 8/20\n",
      "\u001b[1m31/31\u001b[0m \u001b[32m━━━━━━━━━━━━━━━━━━━━\u001b[0m\u001b[37m\u001b[0m \u001b[1m2s\u001b[0m 43ms/step - accuracy: 0.8355 - loss: 0.3410 - val_accuracy: 0.8341 - val_loss: 0.3678 - learning_rate: 0.0010\n",
      "Epoch 9/20\n",
      "\u001b[1m31/31\u001b[0m \u001b[32m━━━━━━━━━━━━━━━━━━━━\u001b[0m\u001b[37m\u001b[0m \u001b[1m1s\u001b[0m 41ms/step - accuracy: 0.8506 - loss: 0.3179 - val_accuracy: 0.8455 - val_loss: 0.3306 - learning_rate: 0.0010\n",
      "Epoch 10/20\n",
      "\u001b[1m31/31\u001b[0m \u001b[32m━━━━━━━━━━━━━━━━━━━━\u001b[0m\u001b[37m\u001b[0m \u001b[1m1s\u001b[0m 39ms/step - accuracy: 0.8445 - loss: 0.3210 - val_accuracy: 0.8607 - val_loss: 0.2934 - learning_rate: 0.0010\n",
      "Epoch 11/20\n",
      "\u001b[1m31/31\u001b[0m \u001b[32m━━━━━━━━━━━━━━━━━━━━\u001b[0m\u001b[37m\u001b[0m \u001b[1m2s\u001b[0m 42ms/step - accuracy: 0.8651 - loss: 0.2851 - val_accuracy: 0.8402 - val_loss: 0.3550 - learning_rate: 0.0010\n",
      "Epoch 12/20\n",
      "\u001b[1m29/31\u001b[0m \u001b[32m━━━━━━━━━━━━━━━━━━\u001b[0m\u001b[37m━━\u001b[0m \u001b[1m0s\u001b[0m 34ms/step - accuracy: 0.8516 - loss: 0.2988\n",
      "Epoch 12: ReduceLROnPlateau reducing learning rate to 0.0005000000237487257.\n",
      "\u001b[1m31/31\u001b[0m \u001b[32m━━━━━━━━━━━━━━━━━━━━\u001b[0m\u001b[37m\u001b[0m \u001b[1m1s\u001b[0m 40ms/step - accuracy: 0.8519 - loss: 0.2989 - val_accuracy: 0.8455 - val_loss: 0.3365 - learning_rate: 0.0010\n",
      "Epoch 13/20\n",
      "\u001b[1m31/31\u001b[0m \u001b[32m━━━━━━━━━━━━━━━━━━━━\u001b[0m\u001b[37m\u001b[0m \u001b[1m1s\u001b[0m 39ms/step - accuracy: 0.8695 - loss: 0.2868 - val_accuracy: 0.8349 - val_loss: 0.3657 - learning_rate: 5.0000e-04\n",
      "Epoch 14/20\n",
      "\u001b[1m29/31\u001b[0m \u001b[32m━━━━━━━━━━━━━━━━━━\u001b[0m\u001b[37m━━\u001b[0m \u001b[1m0s\u001b[0m 35ms/step - accuracy: 0.8511 - loss: 0.2954\n",
      "Epoch 14: ReduceLROnPlateau reducing learning rate to 0.0002500000118743628.\n",
      "\u001b[1m31/31\u001b[0m \u001b[32m━━━━━━━━━━━━━━━━━━━━\u001b[0m\u001b[37m\u001b[0m \u001b[1m1s\u001b[0m 40ms/step - accuracy: 0.8522 - loss: 0.2944 - val_accuracy: 0.8558 - val_loss: 0.3008 - learning_rate: 5.0000e-04\n",
      "Epoch 15/20\n",
      "\u001b[1m31/31\u001b[0m \u001b[32m━━━━━━━━━━━━━━━━━━━━\u001b[0m\u001b[37m\u001b[0m \u001b[1m2s\u001b[0m 42ms/step - accuracy: 0.8747 - loss: 0.2727 - val_accuracy: 0.8417 - val_loss: 0.3347 - learning_rate: 2.5000e-04\n",
      "Epoch 16/20\n",
      "\u001b[1m31/31\u001b[0m \u001b[32m━━━━━━━━━━━━━━━━━━━━\u001b[0m\u001b[37m\u001b[0m \u001b[1m0s\u001b[0m 33ms/step - accuracy: 0.8695 - loss: 0.2732\n",
      "Epoch 16: ReduceLROnPlateau reducing learning rate to 0.0001250000059371814.\n",
      "\u001b[1m31/31\u001b[0m \u001b[32m━━━━━━━━━━━━━━━━━━━━\u001b[0m\u001b[37m\u001b[0m \u001b[1m1s\u001b[0m 41ms/step - accuracy: 0.8695 - loss: 0.2732 - val_accuracy: 0.8402 - val_loss: 0.3435 - learning_rate: 2.5000e-04\n",
      "Epoch 17/20\n",
      "\u001b[1m31/31\u001b[0m \u001b[32m━━━━━━━━━━━━━━━━━━━━\u001b[0m\u001b[37m\u001b[0m \u001b[1m2s\u001b[0m 44ms/step - accuracy: 0.8787 - loss: 0.2783 - val_accuracy: 0.8440 - val_loss: 0.3219 - learning_rate: 1.2500e-04\n",
      "Epoch 18/20\n",
      "\u001b[1m31/31\u001b[0m \u001b[32m━━━━━━━━━━━━━━━━━━━━\u001b[0m\u001b[37m\u001b[0m \u001b[1m0s\u001b[0m 35ms/step - accuracy: 0.8640 - loss: 0.2797\n",
      "Epoch 18: ReduceLROnPlateau reducing learning rate to 6.25000029685907e-05.\n",
      "\u001b[1m31/31\u001b[0m \u001b[32m━━━━━━━━━━━━━━━━━━━━\u001b[0m\u001b[37m\u001b[0m \u001b[1m2s\u001b[0m 43ms/step - accuracy: 0.8642 - loss: 0.2794 - val_accuracy: 0.8546 - val_loss: 0.3015 - learning_rate: 1.2500e-04\n",
      "Epoch 19/20\n",
      "\u001b[1m31/31\u001b[0m \u001b[32m━━━━━━━━━━━━━━━━━━━━\u001b[0m\u001b[37m\u001b[0m \u001b[1m2s\u001b[0m 43ms/step - accuracy: 0.8727 - loss: 0.2736 - val_accuracy: 0.8486 - val_loss: 0.3107 - learning_rate: 6.2500e-05\n",
      "Epoch 20/20\n",
      "\u001b[1m28/31\u001b[0m \u001b[32m━━━━━━━━━━━━━━━━━━\u001b[0m\u001b[37m━━\u001b[0m \u001b[1m0s\u001b[0m 36ms/step - accuracy: 0.8702 - loss: 0.2855\n",
      "Epoch 20: ReduceLROnPlateau reducing learning rate to 3.125000148429535e-05.\n",
      "\u001b[1m31/31\u001b[0m \u001b[32m━━━━━━━━━━━━━━━━━━━━\u001b[0m\u001b[37m\u001b[0m \u001b[1m1s\u001b[0m 41ms/step - accuracy: 0.8708 - loss: 0.2840 - val_accuracy: 0.8543 - val_loss: 0.3044 - learning_rate: 6.2500e-05\n"
     ]
    }
   ],
   "source": [
    "history = model.fit(\n",
    "#    x_train, y_train,  # Ensure x_train is reshaped if needed and y_train is binary\n",
    "#    batch_size=32,\n",
    "    datagen.flow(x_train,y_train, batch_size = 128),\n",
    "    epochs=20,\n",
    "    validation_data=(x_test, y_test),\n",
    "    callbacks = [learning_rate_reduction]\n",
    ")\n"
   ]
  },
  {
   "cell_type": "code",
   "execution_count": 307,
   "id": "1dcb139f-cf77-482c-9cdb-e8bb49f886be",
   "metadata": {},
   "outputs": [
    {
     "name": "stdout",
     "output_type": "stream",
     "text": [
      "\u001b[1m83/83\u001b[0m \u001b[32m━━━━━━━━━━━━━━━━━━━━\u001b[0m\u001b[37m\u001b[0m \u001b[1m0s\u001b[0m 3ms/step - accuracy: 0.8487 - loss: 0.3116\n",
      "Accuracy of the model is -  85.12176275253296 %\n"
     ]
    }
   ],
   "source": [
    "print(\"Accuracy of the model is - \" , model.evaluate(x_test,y_test)[1]*100 , \"%\")"
   ]
  },
  {
   "cell_type": "markdown",
   "id": "3c306fee-5734-481c-a3c2-34a1ed922cfe",
   "metadata": {},
   "source": [
    "# Analisis training\n"
   ]
  },
  {
   "cell_type": "code",
   "execution_count": 308,
   "id": "87c3099a-439c-4bd7-bcc1-ab55948ed996",
   "metadata": {},
   "outputs": [
    {
     "data": {
      "image/png": "[encoded data removed]",
      "text/plain": [
       "<Figure size 1600x900 with 2 Axes>"
      ]
     },
     "metadata": {},
     "output_type": "display_data"
    }
   ],
   "source": [
    "epochs = [i for i in range(20)]\n",
    "fig , ax = plt.subplots(1,2)\n",
    "train_acc = history.history['accuracy']\n",
    "train_loss = history.history['loss']\n",
    "val_acc = history.history['val_accuracy']\n",
    "val_loss = history.history['val_loss']\n",
    "fig.set_size_inches(16,9)\n",
    "\n",
    "ax[0].plot(epochs , train_acc , 'go-' , label = 'Training Accuracy')\n",
    "ax[0].plot(epochs , val_acc , 'ro-' , label = 'Testing Accuracy')\n",
    "ax[0].set_title('Training & Validation Accuracy')\n",
    "ax[0].legend()\n",
    "ax[0].set_xlabel(\"Epochs\")\n",
    "ax[0].set_ylabel(\"Accuracy\")\n",
    "\n",
    "ax[1].plot(epochs , train_loss , 'g-o' , label = 'Training Loss')\n",
    "ax[1].plot(epochs , val_loss , 'r-o' , label = 'Testing Loss')\n",
    "ax[1].set_title('Testing Accuracy & Loss')\n",
    "ax[1].legend()\n",
    "ax[1].set_xlabel(\"Epochs\")\n",
    "ax[1].set_ylabel(\"Loss\")\n",
    "plt.show()"
   ]
  },
  {
   "cell_type": "code",
   "execution_count": 309,
   "id": "b2eafe4a-60d5-48f9-bd35-d4551862d426",
   "metadata": {},
   "outputs": [
    {
     "name": "stdout",
     "output_type": "stream",
     "text": [
      "\u001b[1m83/83\u001b[0m \u001b[32m━━━━━━━━━━━━━━━━━━━━\u001b[0m\u001b[37m\u001b[0m \u001b[1m0s\u001b[0m 3ms/step\n"
     ]
    }
   ],
   "source": [
    "y_pred = model.predict(x_test)"
   ]
  },
  {
   "cell_type": "code",
   "execution_count": 310,
   "id": "1099c51e-093b-479a-be01-645ed065d662",
   "metadata": {},
   "outputs": [
    {
     "name": "stdout",
     "output_type": "stream",
     "text": [
      "              precision    recall  f1-score   support\n",
      "\n",
      "           0       0.92      0.77      0.84      1320\n",
      "           1       0.80      0.94      0.86      1308\n",
      "\n",
      "    accuracy                           0.85      2628\n",
      "   macro avg       0.86      0.85      0.85      2628\n",
      "weighted avg       0.86      0.85      0.85      2628\n",
      "\n"
     ]
    }
   ],
   "source": [
    "y_pred_binary = (y_pred > 0.5).astype(int)\n",
    "print(classification_report(y_test, y_pred_binary))"
   ]
  },
  {
   "cell_type": "code",
   "execution_count": 311,
   "id": "97ba824c-4eb2-4ec9-98d0-c179c9c5b3d3",
   "metadata": {},
   "outputs": [
    {
     "name": "stdout",
     "output_type": "stream",
     "text": [
      "[[1014  306]\n",
      " [  85 1223]]\n"
     ]
    }
   ],
   "source": [
    "cm = confusion_matrix(y_test, y_pred_binary)\n",
    "print(cm)"
   ]
  },
  {
   "cell_type": "code",
   "execution_count": 312,
   "id": "962c7917-ba4a-420d-a1f7-7144595ea682",
   "metadata": {},
   "outputs": [
    {
     "data": {
      "image/png": "[encoded data removed]",
      "text/plain": [
       "<Figure size 800x600 with 2 Axes>"
      ]
     },
     "metadata": {},
     "output_type": "display_data"
    }
   ],
   "source": [
    "plt.figure(figsize=(8, 6))\n",
    "sns.heatmap(cm, annot=True, fmt='d', cmap='Blues', xticklabels=['Closed', 'Open'], yticklabels=['Closed', 'Open'])\n",
    "plt.xlabel('Predicted')\n",
    "plt.ylabel('True')\n",
    "plt.title('Confusion Matrix')\n",
    "plt.show()"
   ]
  },
  {
   "cell_type": "code",
   "execution_count": 313,
   "id": "1d79c95b-a841-4903-ad3f-796f19e1095a",
   "metadata": {},
   "outputs": [
    {
     "name": "stdout",
     "output_type": "stream",
     "text": [
      "(2628,)\n",
      "(2628,)\n"
     ]
    }
   ],
   "source": [
    "predictions = np.argmax(y_pred, axis=1)\n",
    "print(np.array(predictions).shape)\n",
    "print(y.shape)"
   ]
  },
  {
   "cell_type": "code",
   "execution_count": 314,
   "id": "e135c027-3d8d-4efc-aaa7-fd743d09ca75",
   "metadata": {},
   "outputs": [
    {
     "name": "stdout",
     "output_type": "stream",
     "text": [
      "[   0    0    0 ... 2627 2627 2627]\n"
     ]
    }
   ],
   "source": [
    "correct = np.where(y_pred_binary.flatten() == y_test)[0]\n",
    "print(correct)"
   ]
  },
  {
   "cell_type": "code",
   "execution_count": 315,
   "id": "efc043e6-de51-487a-b3a5-4e8b211daab2",
   "metadata": {},
   "outputs": [
    {
     "data": {
      "image/png": "[encoded data removed]",
      "text/plain": [
       "<Figure size 640x480 with 6 Axes>"
      ]
     },
     "metadata": {},
     "output_type": "display_data"
    }
   ],
   "source": [
    "np.random.shuffle(correct)\n",
    "i = 0\n",
    "for c in correct[:6]:\n",
    "    plt.subplot(3,2,i+1)\n",
    "    plt.imshow(x_test[c].reshape(28,28), cmap=\"gray\", interpolation='none')\n",
    "    plt.title(\"Predicted{},Actual{}\".format(y_pred_binary[c], y_test[c]))\n",
    "    plt.tight_layout()\n",
    "    i += 1"
   ]
  },
  {
   "cell_type": "code",
   "execution_count": 316,
   "id": "86e1682e-be2e-4d9e-95af-d3a25111a8c7",
   "metadata": {},
   "outputs": [
    {
     "name": "stderr",
     "output_type": "stream",
     "text": [
      "WARNING:absl:You are saving your model as an HDF5 file via `model.save()` or `keras.saving.save_model(model)`. This file format is considered legacy. We recommend using instead the native Keras format, e.g. `model.save('my_model.keras')` or `keras.saving.save_model(model, 'my_model.keras')`. \n"
     ]
    }
   ],
   "source": [
    "model.save('mode_openess_v1.h5')"
   ]
  },
  {
   "cell_type": "markdown",
   "id": "5ec6d880-ed3b-4af9-b1ba-d142ecd741da",
   "metadata": {},
   "source": [
    "# Conversion from Keras to ONNX\n",
    "Now we know that the keras model is working. We can perform format convertion and reevaluate the model again"
   ]
  },
  {
   "cell_type": "code",
   "execution_count": 318,
   "id": "2163c264-cdf1-47d7-aa3e-3abd7420a80a",
   "metadata": {},
   "outputs": [],
   "source": [
    "import tf2onnx\n",
    "import onnx\n",
    "\n",
    "model.output_names = ['output']\n",
    "input_signature = (tf.TensorSpec((None, 28, 28, 1), tf.float32, name=\"image_input\"),)\n",
    "onnx_model, _ = tf2onnx.convert.from_keras(model,input_signature, opset=13)\n",
    "onnx.save(onnx_model, \"model_mouth_openness.onnx\")"
   ]
  },
  {
   "cell_type": "markdown",
   "id": "cce7061d-e2b9-4886-93a1-5a2a7d156bf1",
   "metadata": {},
   "source": [
    "# Evaluate the ONNX Model Performance\n",
    "I will reevaluate the model read from the ONNX format "
   ]
  },
  {
   "cell_type": "code",
   "execution_count": 112,
   "id": "f3469f70-c46d-4918-8cf8-7c6be2c9a973",
   "metadata": {},
   "outputs": [
    {
     "name": "stdout",
     "output_type": "stream",
     "text": [
      "Tensor sequential_2_1/dense_3_1/Cast/ReadVariableOp:0 data type: FLOAT\n",
      "Tensor sequential_2_1/dense_3_1/Add/ReadVariableOp:0 data type: FLOAT\n",
      "Tensor sequential_2_1/dense_2_1/Cast/ReadVariableOp:0 data type: FLOAT\n",
      "Tensor sequential_2_1/dense_2_1/Add/ReadVariableOp:0 data type: FLOAT\n",
      "Tensor sequential_2_1/conv2d_6_1/convolution/ReadVariableOp:0 data type: FLOAT\n",
      "Tensor sequential_2_1/conv2d_6_1/Reshape:0 data type: FLOAT\n",
      "Tensor sequential_2_1/conv2d_5_1/convolution/ReadVariableOp:0 data type: FLOAT\n",
      "Tensor sequential_2_1/conv2d_5_1/Reshape:0 data type: FLOAT\n",
      "Tensor sequential_2_1/conv2d_4_1/convolution/ReadVariableOp:0 data type: FLOAT\n",
      "Tensor sequential_2_1/conv2d_4_1/Reshape:0 data type: FLOAT\n",
      "Tensor new_shape__113 data type: INT64\n",
      "Tensor const_fold_opt__114 data type: INT64\n",
      "\n",
      "Input Tensors:\n",
      "Input image_input data type: 1\n",
      "\n",
      "Output Tensors:\n",
      "Output output data type: 1\n"
     ]
    }
   ],
   "source": [
    "import onnx\n",
    "\n",
    "# Load the ONNX model\n",
    "model_onnx = onnx.load('model_mouth_openness.onnx')\n",
    "\n",
    "# Iterate through each initializer (tensors with values) and print their data type\n",
    "for tensor in model_onnx.graph.initializer:\n",
    "    print(f\"Tensor {tensor.name} data type: {onnx.TensorProto.DataType.Name(tensor.data_type)}\")\n",
    "\n",
    "# You can also check the data types of inputs and outputs\n",
    "print(\"\\nInput Tensors:\")\n",
    "for input_tensor in model_onnx.graph.input:\n",
    "    print(f\"Input {input_tensor.name} data type: {input_tensor.type.tensor_type.elem_type}\")\n",
    "\n",
    "print(\"\\nOutput Tensors:\")\n",
    "for output_tensor in model_onnx.graph.output:\n",
    "    print(f\"Output {output_tensor.name} data type: {output_tensor.type.tensor_type.elem_type}\")"
   ]
  },
  {
   "cell_type": "code",
   "execution_count": 2,
   "id": "41a28a92-1144-400c-89ca-de75a441581c",
   "metadata": {},
   "outputs": [
    {
     "name": "stdout",
     "output_type": "stream",
     "text": [
      "Model output (Sigmoid values): [array([[0.80978715]], dtype=float32)]\n",
      "Inference latency: 0.409 ms\n"
     ]
    }
   ],
   "source": [
    "import onnx\n",
    "import onnxruntime as rt\n",
    "import numpy as np\n",
    "import time \n",
    "\n",
    "input_data = np.load(\"input_img_npy/input_image_16.npy\")\n",
    "input_data = input_data.reshape(1, 28, 28, 1)  \n",
    "session = rt.InferenceSession('model_mouth_openness.onnx')\n",
    "input_name = session.get_inputs()[0].name\n",
    "label_name = session.get_outputs()[0].name\n",
    "feed = {input_name: input_data}\n",
    "start_time = time.perf_counter_ns()\n",
    "output = session.run(None, feed)\n",
    "end_time = time.perf_counter_ns()\n",
    "latency = end_time - start_time\n",
    "print(\"Model output (Sigmoid values):\", output)\n",
    "print(\"Inference latency: {:.3f} ms\".format(latency/1000000))"
   ]
  },
  {
   "cell_type": "code",
   "execution_count": null,
   "id": "001c8a7e-b466-4cdd-88f8-5ed42cdf06dc",
   "metadata": {},
   "outputs": [],
   "source": []
  }
 ],
 "metadata": {
  "kernelspec": {
   "display_name": "Python 3 (ipykernel)",
   "language": "python",
   "name": "python3"
  },
  "language_info": {
   "codemirror_mode": {
    "name": "ipython",
    "version": 3
   },
   "file_extension": ".py",
   "mimetype": "text/x-python",
   "name": "python",
   "nbconvert_exporter": "python",
   "pygments_lexer": "ipython3",
   "version": "3.12.7"
  }
 },
 "nbformat": 4,
 "nbformat_minor": 5
}
